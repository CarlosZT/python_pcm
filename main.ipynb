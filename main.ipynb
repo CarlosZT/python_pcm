{
 "cells": [
  {
   "attachments": {},
   "cell_type": "markdown",
   "metadata": {},
   "source": [
    "Importamos las librerías necesarias\n"
   ]
  },
  {
   "cell_type": "code",
   "execution_count": null,
   "metadata": {},
   "outputs": [],
   "source": [
    "import numpy as np\n",
    "import matplotlib.pyplot as plt\n",
    "from scipy import interpolate\n",
    "from scipy.fftpack import fft, fftfreq\n",
    "from scipy.signal import cheby1, sosfilt"
   ]
  },
  {
   "attachments": {},
   "cell_type": "markdown",
   "metadata": {},
   "source": [
    "Generamos la señal como una función senoidal/cosenoidal usando parámetros como frecuencia, fase y la serie de tiempo"
   ]
  },
  {
   "cell_type": "code",
   "execution_count": null,
   "metadata": {},
   "outputs": [],
   "source": [
    "def func(time_series, frequencies, phases):\n",
    "    s = np.zeros_like(time_series)\n",
    "    w = 2 * np.pi\n",
    "    for f,p in zip(frequencies, phases):\n",
    "        s += np.cos(w * time_series * f + p)\n",
    "    return s"
   ]
  },
  {
   "attachments": {},
   "cell_type": "markdown",
   "metadata": {},
   "source": [
    "Realizamos el muestreo tomando como referencia el valor de frecuencia máximo de la señal a muestrear"
   ]
  },
  {
   "cell_type": "code",
   "execution_count": null,
   "metadata": {},
   "outputs": [],
   "source": [
    "n_samples = 600\n",
    "freqs = np.random.randint(1, 50, 4)\n",
    "# freqs = [5, 10, 15, 20]\n",
    "phases = [np.pi/3, 0.5, 1, 2 * np.pi * 30]\n",
    "\n",
    "sample_rate = max(freqs) * 3\n",
    "\n",
    "time = np.arange(0, n_samples) * (1 / sample_rate)\n",
    "\n",
    "signal = func(time, freqs, phases)"
   ]
  },
  {
   "attachments": {},
   "cell_type": "markdown",
   "metadata": {},
   "source": [
    "Usamos una versión de la misma señal con un sample rate más alto para \"simular\" la señal análoga original y realizar comparaciones (Usando el 95% del numero total de muestras como referencia)."
   ]
  },
  {
   "cell_type": "code",
   "execution_count": null,
   "metadata": {},
   "outputs": [],
   "source": [
    "fs_ideal = int(n_samples * 0.95)\n",
    "time_ideal = np.arange(0, n_samples) * (1 / fs_ideal)\n",
    "signal_ideal = func(time_ideal, freqs, phases)"
   ]
  },
  {
   "attachments": {},
   "cell_type": "markdown",
   "metadata": {},
   "source": [
    "Generamos un plot con las muestras obtenidas dibujadas sobre la señal ideal."
   ]
  },
  {
   "cell_type": "code",
   "execution_count": null,
   "metadata": {},
   "outputs": [],
   "source": [
    "\n",
    "plt.figure(figsize=(15,6))\n",
    "plt.plot(time_ideal[:fs_ideal//2], signal_ideal[:fs_ideal//2], 'r', label=f'Ideal Signal (max freq: {max(freqs)}Hz)')\n",
    "\n",
    "plt.stem(time[:sample_rate//2], signal[:sample_rate//2], label=f'Samples')\n",
    "\n",
    "plt.grid(True)\n",
    "plt.legend(loc='best')\n",
    "plt.title('Signal and sampling')\n",
    "plt.show()"
   ]
  },
  {
   "attachments": {},
   "cell_type": "markdown",
   "metadata": {},
   "source": [
    "Generamos un segundo plot con la señal reconstruida a partir de las muestras. La librería aplica interpolación lineal por defecto para generar las curvas de la función."
   ]
  },
  {
   "cell_type": "code",
   "execution_count": null,
   "metadata": {},
   "outputs": [],
   "source": [
    "plt.figure(figsize=(15,6))\n",
    "plt.plot(time[:sample_rate//2], signal[:sample_rate//2], label=f'Reconstructed signal at {sample_rate}Hz')\n",
    "plt.grid(True)\n",
    "plt.legend(loc='best')\n",
    "plt.show()"
   ]
  },
  {
   "attachments": {},
   "cell_type": "markdown",
   "metadata": {},
   "source": [
    "Normalizamos la señal para un rango de valores (Determinado por el número de bits que usaremos para digitalizarla). En este caso, usaremos un formato de 8 bits sin valores negativos"
   ]
  },
  {
   "cell_type": "code",
   "execution_count": null,
   "metadata": {},
   "outputs": [],
   "source": [
    "n_bits = 8\n",
    "\n",
    "vmin = 0\n",
    "vmax = int(2**n_bits) - 1\n",
    "\n",
    "signal_vmax = np.max(signal)\n",
    "signal_vmin = np.min(signal)\n",
    "\n",
    "normal_signal = vmin + ((signal - signal_vmin) * (vmax - vmin))/(signal_vmax - signal_vmin)"
   ]
  },
  {
   "attachments": {},
   "cell_type": "markdown",
   "metadata": {},
   "source": [
    "Para obtener la función discretizada, aplicamos interpolación usando el algoritmo de vecinos cercanos. Esto dará la forma de señal escalonada característico de las señales digitalizadas, pero tendremos que aumentar el sample rate a cambio."
   ]
  },
  {
   "cell_type": "code",
   "execution_count": null,
   "metadata": {},
   "outputs": [],
   "source": [
    "aug_rate = 20\n",
    "augmented_time = np.arange(0,len(time) * aug_rate) * np.max(time) /(len(time) * aug_rate)\n",
    "\n",
    "digital_signal = np.around(normal_signal)\n",
    "interpolated = interpolate.interp1d(time, digital_signal, kind='nearest')(augmented_time)"
   ]
  },
  {
   "attachments": {},
   "cell_type": "markdown",
   "metadata": {},
   "source": [
    "Se crea una versión normalizada de la señal ideal (simulación de la original) para ajustarla a la escala de la señal interpolada digital"
   ]
  },
  {
   "cell_type": "code",
   "execution_count": null,
   "metadata": {},
   "outputs": [],
   "source": [
    "alt_signal_ideal = vmin + ((signal_ideal - signal_vmin) * (vmax - vmin))/(signal_vmax - signal_vmin)"
   ]
  },
  {
   "attachments": {},
   "cell_type": "markdown",
   "metadata": {},
   "source": [
    "Se genera un plot con ambas señales"
   ]
  },
  {
   "cell_type": "code",
   "execution_count": null,
   "metadata": {},
   "outputs": [],
   "source": [
    "plt.figure(figsize=(15,6))\n",
    "plt.plot(time_ideal[:fs_ideal//2], alt_signal_ideal[:fs_ideal//2], 'r', label='Original Signal', linewidth=3, alpha=0.8)\n",
    "plt.plot(augmented_time[:sample_rate*aug_rate//2], interpolated[:sample_rate*aug_rate//2], label=f'Digitalized signal with Fs={sample_rate}Hz', linewidth=3, alpha = 0.8)\n",
    "\n",
    "plt.grid(True)\n",
    "plt.legend(loc='best')\n",
    "plt.show()"
   ]
  },
  {
   "attachments": {},
   "cell_type": "markdown",
   "metadata": {},
   "source": [
    "Se calcula el error de cuantización a partir de la diferencia de entre la señal digitalizada y la \"original\" normalizada"
   ]
  },
  {
   "cell_type": "code",
   "execution_count": null,
   "metadata": {},
   "outputs": [],
   "source": [
    "error = abs(digital_signal - normal_signal)"
   ]
  },
  {
   "attachments": {},
   "cell_type": "markdown",
   "metadata": {},
   "source": [
    "Representación gráfica del error de cuantización"
   ]
  },
  {
   "cell_type": "code",
   "execution_count": null,
   "metadata": {},
   "outputs": [],
   "source": [
    "plt.figure(figsize=(15,6))\n",
    "for p,t in zip(error[:sample_rate//2], time[:sample_rate//2]):\n",
    "    plt.plot([t, t], [0, p], 'r', linewidth=3)\n",
    "    \n",
    "plt.stem(time[:sample_rate//2], error[:sample_rate//2])\n",
    "\n",
    "plt.plot(time[:sample_rate//2], error[:sample_rate//2])\n",
    "\n",
    "plt.title(f'Quantization error: {np.sum(error)}')\n",
    "plt.grid(True)\n",
    "plt.show()"
   ]
  },
  {
   "attachments": {},
   "cell_type": "markdown",
   "metadata": {},
   "source": [
    "Primeras muestras de los vectores de las señales, error y la codificación binaria"
   ]
  },
  {
   "cell_type": "code",
   "execution_count": null,
   "metadata": {},
   "outputs": [],
   "source": [
    "digits = 20\n",
    "digital_signal = np.uint8(digital_signal)\n",
    "print('______________________________________________________________________________________')\n",
    "print('Normal signal\\t\\tQuantization code\\tQuantization error\\tEncoded Word')\n",
    "print('______________________________________________________________________________________')\n",
    "for normal, code, e in zip(normal_signal[:digits], digital_signal[:digits], error[:digits]):\n",
    "    print(f'{normal}\\t\\t{code}\\t\\t{e}\\t{bin(code)}')"
   ]
  },
  {
   "attachments": {},
   "cell_type": "markdown",
   "metadata": {},
   "source": [
    "Aplicamos la Transformada de Fourier para obtener el espectro de frecuencia de nuestra señal"
   ]
  },
  {
   "cell_type": "code",
   "execution_count": null,
   "metadata": {},
   "outputs": [],
   "source": [
    "ft_interpolated = fft(interpolated)\n",
    "ft_signal_ideal = fft(signal_ideal)\n",
    "\n",
    "freqs_interp = fftfreq(len(ft_interpolated), 1/(sample_rate * aug_rate))\n",
    "freqs_ideal = fftfreq(len(ft_signal_ideal), 1/(fs_ideal))"
   ]
  },
  {
   "attachments": {},
   "cell_type": "markdown",
   "metadata": {},
   "source": [
    "Generamos el plot con los espectros (parte real) para observar que, además de conservar las frecuencias fundamentales, la versión digitalizada posee ciertos picos"
   ]
  },
  {
   "cell_type": "code",
   "execution_count": null,
   "metadata": {},
   "outputs": [],
   "source": [
    "plt.figure(figsize=(30,6))\n",
    "plt.subplot(1, 2, 1)\n",
    "plt.title('Original signal specter')\n",
    "plt.plot(freqs_ideal, ft_signal_ideal.real, 'r')\n",
    "for f in freqs:\n",
    "    plt.axvline(x = f, color='g')\n",
    "plt.xlim(left = -60, right = 60)\n",
    "plt.grid(True)\n",
    "\n",
    "plt.subplot(1, 2, 2)\n",
    "plt.title('Discretized signal specter')\n",
    "plt.xlim(left = -60, right = 60)\n",
    "plt.ylim(top = 0.4e6, bottom=-0.1e6)\n",
    "plt.plot(freqs_interp, ft_interpolated.real, 'b')\n",
    "for f in freqs:\n",
    "    plt.axvline(x = f, color='g')\n",
    "plt.grid(True)\n",
    "\n",
    "freqs"
   ]
  },
  {
   "attachments": {},
   "cell_type": "markdown",
   "metadata": {},
   "source": [
    "Aplicamos un filtro digital Chebysehv de 3er orden para eliminar las frecuencias excedentes formadas durante la digitalización (Las altas frecuencias en particular)"
   ]
  },
  {
   "cell_type": "code",
   "execution_count": null,
   "metadata": {},
   "outputs": [],
   "source": [
    "max_freq = np.max(freqs)\n",
    "\n",
    "sos = cheby1(3, 1, max_freq, fs=sample_rate * aug_rate, btype='lowpass', output='sos',)\n",
    "\n",
    "filtered = sosfilt(sos, interpolated)\n",
    "filtered = filtered + abs(np.min(filtered))\n",
    "\n",
    "plt.figure(figsize=(30,6))\n",
    "\n",
    "plt.subplot(1, 3, 1)\n",
    "plt.title('Original signal specter')\n",
    "plt.plot(time_ideal[:fs_ideal//2], signal_ideal[:fs_ideal//2], 'r')\n",
    "plt.grid(True)\n",
    "\n",
    "plt.subplot(1, 3, 2)\n",
    "plt.title('Filtered signal')\n",
    "plt.plot(augmented_time[:aug_rate*sample_rate//2], interpolated[:aug_rate*sample_rate//2], 'b')\n",
    "plt.grid(True)\n",
    "\n",
    "plt.subplot(1, 3, 3)\n",
    "plt.title('Filtered signal')\n",
    "plt.plot(augmented_time[:aug_rate*sample_rate//2], filtered[:aug_rate*sample_rate//2], 'b')\n",
    "plt.grid(True)\n"
   ]
  },
  {
   "attachments": {},
   "cell_type": "markdown",
   "metadata": {},
   "source": [
    "Se genera el plot para el espectro de la señal filtrada"
   ]
  },
  {
   "cell_type": "code",
   "execution_count": null,
   "metadata": {},
   "outputs": [],
   "source": [
    "ft_filtered = (fft(filtered))\n",
    "\n",
    "plt.figure(figsize=(30,6))\n",
    "plt.subplot(1, 2, 1)\n",
    "plt.title('Original signal specter')\n",
    "plt.plot(freqs_ideal, ft_signal_ideal.real, 'r')\n",
    "for f in freqs:\n",
    "    plt.axvline(x = f, color='g')\n",
    "plt.xlim(left = -60, right = 60)\n",
    "plt.grid(True)\n",
    "\n",
    "plt.subplot(1, 2, 2)\n",
    "plt.title('Filtered signal specter')\n",
    "plt.xlim(left = -60, right = 60)\n",
    "plt.ylim(top = 0.2e6, bottom=-0.2e6)\n",
    "plt.plot(freqs_interp, ft_filtered.real, 'b')\n",
    "for f in freqs:\n",
    "    plt.axvline(x = f, color='g')\n",
    "plt.grid(True)"
   ]
  },
  {
   "attachments": {},
   "cell_type": "markdown",
   "metadata": {},
   "source": [
    "SNR para la señal digitalizada en base a la cantidad de bits usados para su representación"
   ]
  },
  {
   "cell_type": "code",
   "execution_count": null,
   "metadata": {},
   "outputs": [],
   "source": [
    "SNRdB = 6.02 * (n_bits) + 1.76\n",
    "SNRdB"
   ]
  }
 ],
 "metadata": {
  "kernelspec": {
   "display_name": "base",
   "language": "python",
   "name": "python3"
  },
  "language_info": {
   "codemirror_mode": {
    "name": "ipython",
    "version": 3
   },
   "file_extension": ".py",
   "mimetype": "text/x-python",
   "name": "python",
   "nbconvert_exporter": "python",
   "pygments_lexer": "ipython3",
   "version": "3.9.7"
  },
  "orig_nbformat": 4,
  "vscode": {
   "interpreter": {
    "hash": "0d3672f07a555457ddfca819f51afe0c1f8e209d881cf623a3f04aa20557acb7"
   }
  }
 },
 "nbformat": 4,
 "nbformat_minor": 2
}
